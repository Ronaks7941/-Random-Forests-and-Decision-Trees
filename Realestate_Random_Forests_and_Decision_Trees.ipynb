{
  "nbformat": 4,
  "nbformat_minor": 0,
  "metadata": {
    "colab": {
      "provenance": []
    },
    "kernelspec": {
      "name": "python3",
      "display_name": "Python 3"
    },
    "language_info": {
      "name": "python"
    }
  },
  "cells": [
    {
      "cell_type": "code",
      "source": [
        "import pandas as pd\n",
        "from sklearn.model_selection import train_test_split\n",
        "from sklearn.tree import DecisionTreeRegressor\n",
        "from sklearn.ensemble import RandomForestRegressor\n",
        "from sklearn.metrics import mean_squared_error, mean_absolute_error\n",
        "\n",
        "# Load the dataset\n",
        "data = pd.read_csv('/content/Real estate.csv')\n",
        "\n",
        "# Assuming the dataset has columns for features (X) and target (y)\n",
        "X = data.drop(columns=['Y house price of unit area'])  # Features\n",
        "y = data['Y house price of unit area']  # Target\n",
        "\n",
        "# Split the data into training and testing sets\n",
        "X_train, X_test, y_train, y_test = train_test_split(X, y, test_size=0.2, random_state=42)\n",
        "\n",
        "# Train Decision Tree Regressor\n",
        "dt_regressor = DecisionTreeRegressor(random_state=42)\n",
        "dt_regressor.fit(X_train, y_train)\n",
        "\n",
        "# Make predictions using Decision Tree Regressor\n",
        "dt_predictions = dt_regressor.predict(X_test)\n",
        "\n",
        "# Evaluate Decision Tree Regressor\n",
        "dt_mse = mean_squared_error(y_test, dt_predictions)\n",
        "dt_mae = mean_absolute_error(y_test, dt_predictions)\n",
        "dt_rmse = dt_mse ** 0.5\n",
        "\n",
        "# Train Random Forest Regressor\n",
        "rf_regressor = RandomForestRegressor(n_estimators=100, random_state=42)\n",
        "rf_regressor.fit(X_train, y_train)\n",
        "\n",
        "# Make predictions using Random Forest Regressor\n",
        "rf_predictions = rf_regressor.predict(X_test)\n",
        "\n",
        "# Evaluate Random Forest Regressor\n",
        "rf_mse = mean_squared_error(y_test, rf_predictions)\n",
        "rf_mae = mean_absolute_error(y_test, rf_predictions)\n",
        "rf_rmse = rf_mse ** 0.5\n",
        "\n",
        "# Print the evaluation metrics\n",
        "print(\"Decision Tree Regressor:\")\n",
        "print(\"Mean Squared Error (MSE):\", dt_mse)\n",
        "print(\"Mean Absolute Error (MAE):\", dt_mae)\n",
        "print(\"Root Mean Squared Error (RMSE):\", dt_rmse)\n",
        "print(\"\\nRandom Forest Regressor:\")\n",
        "print(\"Mean Squared Error (MSE):\", rf_mse)\n",
        "print(\"Mean Absolute Error (MAE):\", rf_mae)\n",
        "print(\"Root Mean Squared Error (RMSE):\", rf_rmse)\n",
        "\n",
        "# Make a recommendation based on the evaluation\n",
        "if rf_rmse < dt_rmse:\n",
        "    print(\"\\nRandom Forest Regressor is preferred for analyzing the data.\")\n",
        "elif dt_rmse < rf_rmse:\n",
        "    print(\"\\nDecision Tree Regressor is preferred for analyzing the data.\")\n",
        "else:\n",
        "    print(\"\\nThe performance of Random Forest and Decision Tree Regressors is similar.\")\n"
      ],
      "metadata": {
        "colab": {
          "base_uri": "https://localhost:8080/"
        },
        "id": "kiYsjLw9thSx",
        "outputId": "e7c9ef66-2bd4-4071-c890-4b49ae01c15d"
      },
      "execution_count": 21,
      "outputs": [
        {
          "output_type": "stream",
          "name": "stdout",
          "text": [
            "Decision Tree Regressor:\n",
            "Mean Squared Error (MSE): 53.89337349397591\n",
            "Mean Absolute Error (MAE): 5.360240963855421\n",
            "Root Mean Squared Error (RMSE): 7.341210628634483\n",
            "\n",
            "Random Forest Regressor:\n",
            "Mean Squared Error (MSE): 31.859230951807227\n",
            "Mean Absolute Error (MAE): 3.8668554216867457\n",
            "Root Mean Squared Error (RMSE): 5.644398192173123\n",
            "\n",
            "Random Forest Regressor is preferred for analyzing the data.\n"
          ]
        }
      ]
    }
  ]
}